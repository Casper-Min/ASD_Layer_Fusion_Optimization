{
 "cells": [
  {
   "cell_type": "code",
   "execution_count": null,
   "metadata": {},
   "outputs": [],
   "source": [
    "from fusion.tools.optimal_schedule_search import do_scheduling_timeloop"
   ]
  },
  {
   "cell_type": "code",
   "execution_count": null,
   "metadata": {},
   "outputs": [],
   "source": [
    "net = 'resnet18_B2'\n",
    "# net = 'resnet18_B3'\n",
    "# net = 'resnet18_B4'\n",
    "# net = 'resnet18_B5'\n",
    "\n",
    "batch = 1\n",
    "# batch = 4\n",
    "\n",
    "# arch = 'fusion/arch/1024PE_128KB.json'\n",
    "# arch = 'fusion/arch/1024PE_256KB.json'\n",
    "# arch = 'fusion/arch/1024PE_512KB.json'\n",
    "# arch = 'fusion/arch/1024PE_1024KB.json'\n",
    "arch = 'fusion/arch/1024PE.json'\n",
    "\n",
    "buffer_size_KB = 256\n",
    "\n",
    "dataflow = 'fusion/dataflow/1_weight_stationary.json'\n",
    "# dataflow = 'fusion/dataflow/1_output_stationary.json'\n",
    "\n",
    "# DRAM_BW = 1\n",
    "DRAM_BW = 2\n",
    "\n",
    "path = './Result'"
   ]
  },
  {
   "cell_type": "code",
   "execution_count": null,
   "metadata": {},
   "outputs": [],
   "source": [
    "# Layer Fusion Baseline - Without Fusion\n",
    "schedule_info_list, cost = do_scheduling_timeloop(net, batch, arch, buffer_size_KB, dataflow,  DRAM_BW, path, wofusion_optimus=True)\n",
    "\n",
    "total_energy = 0\n",
    "for group in schedule_info_list :\n",
    "    for i, v in enumerate(group) :\n",
    "        print(v)\n",
    "        if i == 3 :\n",
    "            total_energy += v\n",
    "    print()\n",
    "print(total_energy)"
   ]
  },
  {
   "cell_type": "code",
   "execution_count": null,
   "metadata": {},
   "outputs": [],
   "source": [
    "# Layer Fusion Baseline - Without Min-Cost\n",
    "schedule_info_list, cost = do_scheduling_timeloop(net, batch, arch, buffer_size_KB, dataflow,  DRAM_BW, path, womincost=True)\n",
    "\n",
    "total_energy = 0\n",
    "for group in schedule_info_list :\n",
    "    for i, v in enumerate(group) :\n",
    "        print(v)\n",
    "        if i == 3 :\n",
    "            total_energy += v\n",
    "    print()\n",
    "print(total_energy)"
   ]
  },
  {
   "cell_type": "code",
   "execution_count": null,
   "metadata": {},
   "outputs": [],
   "source": [
    "# Layer Fusion + Timeloop Cost Model - Without Fusion\n",
    "schedule_info_list, cost = do_scheduling_timeloop(net, batch, arch, buffer_size_KB, dataflow,  DRAM_BW, path, wofusion_optimus=True, timeloop_cost_model=True)\n",
    "\n",
    "total_cycle = 0\n",
    "for group in schedule_info_list :\n",
    "    for i, v in enumerate(group) :\n",
    "        print(v)\n",
    "        if i == 3 :\n",
    "            total_cycle += v\n",
    "    print()\n",
    "print(total_cycle)"
   ]
  },
  {
   "cell_type": "code",
   "execution_count": null,
   "metadata": {},
   "outputs": [],
   "source": [
    "# Layer Fusion + Timeloop Cost Model - Without Min-Cost\n",
    "schedule_info_list, cost = do_scheduling_timeloop(net, batch, arch, buffer_size_KB, dataflow,  DRAM_BW, path, womincost=True, timeloop_cost_model=True)\n",
    "\n",
    "total_cycle = 0\n",
    "for group in schedule_info_list :\n",
    "    for i, v in enumerate(group) :\n",
    "        print(v)\n",
    "        if i == 3 :\n",
    "            total_cycle += v\n",
    "    print()\n",
    "print(total_cycle)"
   ]
  }
 ],
 "metadata": {
  "kernelspec": {
   "display_name": "Python 3",
   "language": "python",
   "name": "python3"
  },
  "language_info": {
   "codemirror_mode": {
    "name": "ipython",
    "version": 3
   },
   "file_extension": ".py",
   "mimetype": "text/x-python",
   "name": "python",
   "nbconvert_exporter": "python",
   "pygments_lexer": "ipython3",
   "version": "3.6.9"
  },
  "orig_nbformat": 4,
  "vscode": {
   "interpreter": {
    "hash": "31f2aee4e71d21fbe5cf8b01ff0e069b9275f58929596ceb00d14d90e3e16cd6"
   }
  }
 },
 "nbformat": 4,
 "nbformat_minor": 2
}
